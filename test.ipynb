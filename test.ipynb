{
 "metadata": {
  "language_info": {
   "codemirror_mode": {
    "name": "ipython",
    "version": 3
   },
   "file_extension": ".py",
   "mimetype": "text/x-python",
   "name": "python",
   "nbconvert_exporter": "python",
   "pygments_lexer": "ipython3",
   "version": "3.7.4-final"
  },
  "orig_nbformat": 2,
  "kernelspec": {
   "name": "python3",
   "display_name": "Python 3.7.4 64-bit",
   "metadata": {
    "interpreter": {
     "hash": "1fb7b506ebc3278d414a9cb99032ea74abe5bd5354639d5975aa94eabd1f0026"
    }
   }
  }
 },
 "nbformat": 4,
 "nbformat_minor": 2,
 "cells": [
  {
   "source": [
    "# Testing package inside a notebook"
   ],
   "cell_type": "markdown",
   "metadata": {}
  },
  {
   "cell_type": "code",
   "execution_count": 7,
   "metadata": {},
   "outputs": [],
   "source": [
    "from graph import DB_PATH\n",
    "from graph.utils import *"
   ]
  },
  {
   "cell_type": "code",
   "execution_count": 11,
   "metadata": {},
   "outputs": [
    {
     "output_type": "execute_result",
     "data": {
      "text/plain": [
       "['/home/alif/project/data/db/edit/file1_new.csv',\n",
       " '/home/alif/project/data/db/edit/file2_new.txt']"
      ]
     },
     "metadata": {},
     "execution_count": 11
    }
   ],
   "source": [
    "path_edit(['file1.csv','file2.txt'],DB_PATH,'new','edit')"
   ]
  }
 ]
}